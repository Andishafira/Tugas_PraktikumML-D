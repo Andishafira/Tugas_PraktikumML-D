{
  "nbformat": 4,
  "nbformat_minor": 0,
  "metadata": {
    "colab": {
      "name": "Skenario_Model_6.ipynb",
      "provenance": [],
      "collapsed_sections": [],
      "authorship_tag": "ABX9TyMmmNYNwpw+xGvNVfBjy5XN",
      "include_colab_link": true
    },
    "kernelspec": {
      "name": "python3",
      "display_name": "Python 3"
    },
    "language_info": {
      "name": "python"
    },
    "accelerator": "GPU"
  },
  "cells": [
    {
      "cell_type": "markdown",
      "metadata": {
        "id": "view-in-github",
        "colab_type": "text"
      },
      "source": [
        "<a href=\"https://colab.research.google.com/github/Andishafira/Tugas_PraktikumML-D_219-231/blob/Fira/Skenario_Model_6.ipynb\" target=\"_parent\"><img src=\"https://colab.research.google.com/assets/colab-badge.svg\" alt=\"Open In Colab\"/></a>"
      ]
    },
    {
      "cell_type": "code",
      "metadata": {
        "id": "IWqkVobWPEpI"
      },
      "source": [
        "#Import library yang dibutuhkan\n",
        "import numpy as np\n",
        "import pandas as pd\n",
        "import matplotlib.pyplot as plt\n",
        "import seaborn as sns\n",
        "import keras\n",
        "from tensorflow.keras.callbacks import ModelCheckpoint\n",
        "from keras.models import Sequential\n",
        "from keras.layers import InputLayer, Dense, Conv2D, MaxPool2D\n",
        "from tensorflow.keras.layers import Dropout, SpatialDropout2D\n",
        "from keras.layers import GlobalMaxPooling2D, AveragePooling2D, GlobalAveragePooling2D, Flatten\n",
        "from keras.layers import Dense, Conv2D , MaxPool2D , Flatten , Dropout , BatchNormalization\n",
        "from tensorflow.keras.optimizers import SGD, Adam\n",
        "from sklearn.preprocessing import LabelEncoder\n",
        "from keras.preprocessing.image import ImageDataGenerator\n",
        "from sklearn.model_selection import train_test_split\n",
        "from sklearn.metrics import classification_report,confusion_matrix\n",
        "from keras.callbacks import ReduceLROnPlateau\n",
        "import cv2\n",
        "import os"
      ],
      "execution_count": 1,
      "outputs": []
    },
    {
      "cell_type": "code",
      "metadata": {
        "colab": {
          "base_uri": "https://localhost:8080/"
        },
        "id": "jOCh6KqIthCt",
        "outputId": "929a7edb-d0f2-49f3-980d-43b735a6d101"
      },
      "source": [
        "from google.colab import drive\n",
        "drive.mount('/content/drive')"
      ],
      "execution_count": 2,
      "outputs": [
        {
          "output_type": "stream",
          "name": "stdout",
          "text": [
            "Mounted at /content/drive\n"
          ]
        }
      ]
    },
    {
      "cell_type": "code",
      "metadata": {
        "id": "Mss6B19FtrqF"
      },
      "source": [
        "import os\n",
        "os.environ['KAGGLE_CONFIG_DIR'] = \"/content/drive/MyDrive/TugasBesar_MachineLearning\""
      ],
      "execution_count": 3,
      "outputs": []
    },
    {
      "cell_type": "code",
      "metadata": {
        "colab": {
          "base_uri": "https://localhost:8080/"
        },
        "id": "NbAQ6K0ftuX-",
        "outputId": "652ac364-1966-46ca-e60c-912e8ca5172f"
      },
      "source": [
        "%cd /content/drive/MyDrive/TugasBesar_MachineLearning"
      ],
      "execution_count": 4,
      "outputs": [
        {
          "output_type": "stream",
          "name": "stdout",
          "text": [
            "/content/drive/MyDrive/TugasBesar_MachineLearning\n"
          ]
        }
      ]
    },
    {
      "cell_type": "code",
      "metadata": {
        "colab": {
          "base_uri": "https://localhost:8080/"
        },
        "id": "ezzG2eTbtvpZ",
        "outputId": "acfe961a-c19c-47b7-9169-5b375b4f70a1"
      },
      "source": [
        "!ls"
      ],
      "execution_count": 5,
      "outputs": [
        {
          "output_type": "stream",
          "name": "stdout",
          "text": [
            "chest_xray  kaggle.json\n"
          ]
        }
      ]
    },
    {
      "cell_type": "code",
      "metadata": {
        "id": "NQgSoD8k0SLa"
      },
      "source": [
        "#Pengambilan Data\n",
        "labels = ['PNEUMONIA', 'NORMAL']\n",
        "img_size = 150\n",
        "def get_training_data(data_dir):\n",
        "    data = [] \n",
        "    for label in labels: \n",
        "        path = os.path.join(data_dir, label)\n",
        "        class_num = labels.index(label)\n",
        "        for img in os.listdir(path):\n",
        "            try:\n",
        "                img_arr = cv2.imread(os.path.join(path, img), cv2.IMREAD_GRAYSCALE)\n",
        "                resized_arr = cv2.resize(img_arr, (img_size, img_size))\n",
        "                data.append([resized_arr, class_num])\n",
        "            except Exception as e:\n",
        "                print(e)\n",
        "    return np.array(data)"
      ],
      "execution_count": 6,
      "outputs": []
    },
    {
      "cell_type": "code",
      "metadata": {
        "colab": {
          "base_uri": "https://localhost:8080/"
        },
        "id": "vzL1bBDE0VRV",
        "outputId": "9c581b7b-a625-47e7-dab2-082b8486e210"
      },
      "source": [
        "train = get_training_data('/content/drive/MyDrive/TugasBesar_MachineLearning/chest_xray/train')\n",
        "test = get_training_data('/content/drive/MyDrive/TugasBesar_MachineLearning/chest_xray/test')\n",
        "val = get_training_data('/content/drive/MyDrive/TugasBesar_MachineLearning/chest_xray/val')"
      ],
      "execution_count": 7,
      "outputs": [
        {
          "output_type": "stream",
          "name": "stderr",
          "text": [
            "/usr/local/lib/python3.7/dist-packages/ipykernel_launcher.py:16: VisibleDeprecationWarning: Creating an ndarray from ragged nested sequences (which is a list-or-tuple of lists-or-tuples-or ndarrays with different lengths or shapes) is deprecated. If you meant to do this, you must specify 'dtype=object' when creating the ndarray\n",
            "  app.launch_new_instance()\n"
          ]
        }
      ]
    },
    {
      "cell_type": "code",
      "metadata": {
        "id": "aqrg8q4tt0UX"
      },
      "source": [
        "#Splitting Data\n",
        "#X = Fitur\n",
        "#Y = Label\n",
        "x_train = []\n",
        "y_train = []\n",
        "\n",
        "x_val = []\n",
        "y_val = []\n",
        "\n",
        "x_test = []\n",
        "y_test = []\n",
        "\n",
        "for feature, label in train:\n",
        "    x_train.append(feature)\n",
        "    y_train.append(label)\n",
        "\n",
        "for feature, label in test:\n",
        "    x_test.append(feature)\n",
        "    y_test.append(label)\n",
        "    \n",
        "for feature, label in val:\n",
        "    x_val.append(feature)\n",
        "    y_val.append(label)"
      ],
      "execution_count": 8,
      "outputs": []
    },
    {
      "cell_type": "code",
      "metadata": {
        "id": "OOPDxqpjt74z"
      },
      "source": [
        "#Normalisasi Data\n",
        "#Biar dalam rentang 0-1\n",
        "x_train = np.array(x_train) / 255 #255 = nilai max\n",
        "x_val = np.array(x_val) / 255\n",
        "x_test = np.array(x_test) / 255"
      ],
      "execution_count": 9,
      "outputs": []
    },
    {
      "cell_type": "code",
      "metadata": {
        "id": "QF3RYCbkt9Sd"
      },
      "source": [
        "#Resize Data\n",
        "x_train = x_train.reshape(-1, img_size, img_size, 1)\n",
        "y_train = np.array(y_train)\n",
        "\n",
        "x_val = x_val.reshape(-1, img_size, img_size, 1)\n",
        "y_val = np.array(y_val)\n",
        "\n",
        "x_test = x_test.reshape(-1, img_size, img_size, 1)\n",
        "y_test = np.array(y_test)"
      ],
      "execution_count": 10,
      "outputs": []
    },
    {
      "cell_type": "code",
      "metadata": {
        "id": "-yWEB9FOt-aZ"
      },
      "source": [
        "datagen = ImageDataGenerator(\n",
        "        featurewise_center=False,  # set input mean to 0 over the dataset\n",
        "        samplewise_center=False,  # set each sample mean to 0\n",
        "        featurewise_std_normalization=False,  # divide inputs by std of the dataset\n",
        "        samplewise_std_normalization=False,  # divide each input by its std\n",
        "        zca_whitening=False,  # apply ZCA whitening\n",
        "        rotation_range = 30,  # randomly rotate images in the range (degrees, 0 to 180)\n",
        "        zoom_range = 0.2, # Randomly zoom image \n",
        "        width_shift_range=0.1,  # randomly shift images horizontally (fraction of total width)\n",
        "        height_shift_range=0.1,  # randomly shift images vertically (fraction of total height)\n",
        "        horizontal_flip = True,  # randomly flip images\n",
        "        vertical_flip=False)  # randomly flip images"
      ],
      "execution_count": 11,
      "outputs": []
    },
    {
      "cell_type": "code",
      "metadata": {
        "id": "BQc5r8Knt_te"
      },
      "source": [
        "x_train = np.array(x_train)\n",
        "x_val = np.array(x_val)\n",
        "x_test = np.array(x_test)"
      ],
      "execution_count": 12,
      "outputs": []
    },
    {
      "cell_type": "code",
      "metadata": {
        "colab": {
          "base_uri": "https://localhost:8080/"
        },
        "id": "aAksLCTCuBqP",
        "outputId": "13715eca-85cf-46fe-8d89-34b806bfc69a"
      },
      "source": [
        "lb = LabelEncoder()\n",
        "y_train = lb.fit_transform(y_train)\n",
        "y_test = lb.fit_transform(y_test)\n",
        "print(y_train)"
      ],
      "execution_count": 13,
      "outputs": [
        {
          "output_type": "stream",
          "name": "stdout",
          "text": [
            "[0 0 0 ... 1 1 1]\n"
          ]
        }
      ]
    },
    {
      "cell_type": "code",
      "metadata": {
        "colab": {
          "base_uri": "https://localhost:8080/"
        },
        "id": "cu6hgdpguHwb",
        "outputId": "b2456442-0991-439f-9c6a-bdd190b628d6"
      },
      "source": [
        "model6 = Sequential()\n",
        "model6.add(Conv2D(32 , (3,3) , strides = 1 , padding = 'same' , activation = 'relu' , input_shape = (150,150,1)))\n",
        "model6.add(BatchNormalization())\n",
        "model6.add(AveragePooling2D((2,2) , strides = 2 , padding = 'same'))\n",
        "\n",
        "model6.add(Conv2D(64 , (3,3) , strides = 1 , padding = 'same' , activation = 'relu'))\n",
        "model6.add(Dropout(0.1))\n",
        "model6.add(BatchNormalization())\n",
        "model6.add(AveragePooling2D((2,2) , strides = 2 , padding = 'same'))\n",
        "\n",
        "model6.add(Conv2D(64 , (3,3) , strides = 1 , padding = 'same' , activation = 'relu'))\n",
        "model6.add(BatchNormalization())\n",
        "model6.add(AveragePooling2D((2,2) , strides = 2 , padding = 'same'))\n",
        "\n",
        "model6.add(Conv2D(128 , (3,3) , strides = 1 , padding = 'same' , activation = 'relu'))\n",
        "model6.add(Dropout(0.15))\n",
        "model6.add(BatchNormalization())\n",
        "model6.add(AveragePooling2D((2,2) , strides = 2 , padding = 'same'))\n",
        "\n",
        "model6.add(Conv2D(256 , (3,3) , strides = 1 , padding = 'same' , activation = 'relu'))\n",
        "model6.add(Dropout(0.2))\n",
        "model6.add(BatchNormalization())\n",
        "model6.add(AveragePooling2D((2,2) , strides = 2 , padding = 'same'))\n",
        "\n",
        "model6.add(Flatten())\n",
        "model6.add(Dense(units = 128 , activation = 'relu'))\n",
        "model6.add(Dropout(0.2))\n",
        "\n",
        "model6.add(Dense(units = 1 , activation = 'sigmoid'))\n",
        "model6.compile(optimizer = \"sgd\" , loss = 'binary_crossentropy' , metrics = ['accuracy'])\n",
        "model6.summary()"
      ],
      "execution_count": 14,
      "outputs": [
        {
          "output_type": "stream",
          "name": "stdout",
          "text": [
            "Model: \"sequential\"\n",
            "_________________________________________________________________\n",
            " Layer (type)                Output Shape              Param #   \n",
            "=================================================================\n",
            " conv2d (Conv2D)             (None, 150, 150, 32)      320       \n",
            "                                                                 \n",
            " batch_normalization (BatchN  (None, 150, 150, 32)     128       \n",
            " ormalization)                                                   \n",
            "                                                                 \n",
            " average_pooling2d (AverageP  (None, 75, 75, 32)       0         \n",
            " ooling2D)                                                       \n",
            "                                                                 \n",
            " conv2d_1 (Conv2D)           (None, 75, 75, 64)        18496     \n",
            "                                                                 \n",
            " dropout (Dropout)           (None, 75, 75, 64)        0         \n",
            "                                                                 \n",
            " batch_normalization_1 (Batc  (None, 75, 75, 64)       256       \n",
            " hNormalization)                                                 \n",
            "                                                                 \n",
            " average_pooling2d_1 (Averag  (None, 38, 38, 64)       0         \n",
            " ePooling2D)                                                     \n",
            "                                                                 \n",
            " conv2d_2 (Conv2D)           (None, 38, 38, 64)        36928     \n",
            "                                                                 \n",
            " batch_normalization_2 (Batc  (None, 38, 38, 64)       256       \n",
            " hNormalization)                                                 \n",
            "                                                                 \n",
            " average_pooling2d_2 (Averag  (None, 19, 19, 64)       0         \n",
            " ePooling2D)                                                     \n",
            "                                                                 \n",
            " conv2d_3 (Conv2D)           (None, 19, 19, 128)       73856     \n",
            "                                                                 \n",
            " dropout_1 (Dropout)         (None, 19, 19, 128)       0         \n",
            "                                                                 \n",
            " batch_normalization_3 (Batc  (None, 19, 19, 128)      512       \n",
            " hNormalization)                                                 \n",
            "                                                                 \n",
            " average_pooling2d_3 (Averag  (None, 10, 10, 128)      0         \n",
            " ePooling2D)                                                     \n",
            "                                                                 \n",
            " conv2d_4 (Conv2D)           (None, 10, 10, 256)       295168    \n",
            "                                                                 \n",
            " dropout_2 (Dropout)         (None, 10, 10, 256)       0         \n",
            "                                                                 \n",
            " batch_normalization_4 (Batc  (None, 10, 10, 256)      1024      \n",
            " hNormalization)                                                 \n",
            "                                                                 \n",
            " average_pooling2d_4 (Averag  (None, 5, 5, 256)        0         \n",
            " ePooling2D)                                                     \n",
            "                                                                 \n",
            " flatten (Flatten)           (None, 6400)              0         \n",
            "                                                                 \n",
            " dense (Dense)               (None, 128)               819328    \n",
            "                                                                 \n",
            " dropout_3 (Dropout)         (None, 128)               0         \n",
            "                                                                 \n",
            " dense_1 (Dense)             (None, 1)                 129       \n",
            "                                                                 \n",
            "=================================================================\n",
            "Total params: 1,246,401\n",
            "Trainable params: 1,245,313\n",
            "Non-trainable params: 1,088\n",
            "_________________________________________________________________\n"
          ]
        }
      ]
    },
    {
      "cell_type": "code",
      "metadata": {
        "id": "DRz0WSz68UuE"
      },
      "source": [
        "import time"
      ],
      "execution_count": 20,
      "outputs": []
    },
    {
      "cell_type": "code",
      "metadata": {
        "colab": {
          "base_uri": "https://localhost:8080/"
        },
        "id": "MHsmVzPh88ts",
        "outputId": "c2daeea2-28c0-4e1c-e783-9ecb16c0cdea"
      },
      "source": [
        "learning_rate_reduction = ReduceLROnPlateau(monitor='val_accuracy', patience = 2, verbose=1,factor=0.3, min_lr=0.000001)\n",
        "model_6 = model6.fit(datagen.flow(x_train,y_train, batch_size = 32) ,epochs = 100 , validation_data = datagen.flow(x_val, y_val) ,callbacks = [learning_rate_reduction])"
      ],
      "execution_count": 15,
      "outputs": [
        {
          "output_type": "stream",
          "name": "stdout",
          "text": [
            "Epoch 1/100\n",
            "146/146 [==============================] - 29s 116ms/step - loss: 0.3265 - accuracy: 0.8504 - val_loss: 0.5761 - val_accuracy: 0.7304 - lr: 0.0100\n",
            "Epoch 2/100\n",
            "146/146 [==============================] - 16s 111ms/step - loss: 0.2538 - accuracy: 0.8968 - val_loss: 0.7715 - val_accuracy: 0.7304 - lr: 0.0100\n",
            "Epoch 3/100\n",
            "146/146 [==============================] - 16s 111ms/step - loss: 0.2342 - accuracy: 0.9033 - val_loss: 0.3715 - val_accuracy: 0.8548 - lr: 0.0100\n",
            "Epoch 4/100\n",
            "146/146 [==============================] - 16s 111ms/step - loss: 0.2179 - accuracy: 0.9140 - val_loss: 0.3408 - val_accuracy: 0.8503 - lr: 0.0100\n",
            "Epoch 5/100\n",
            "146/146 [==============================] - 16s 110ms/step - loss: 0.2081 - accuracy: 0.9167 - val_loss: 0.3228 - val_accuracy: 0.8638 - lr: 0.0100\n",
            "Epoch 6/100\n",
            "146/146 [==============================] - 16s 111ms/step - loss: 0.2112 - accuracy: 0.9167 - val_loss: 0.7970 - val_accuracy: 0.6141 - lr: 0.0100\n",
            "Epoch 7/100\n",
            "146/146 [==============================] - ETA: 0s - loss: 0.1918 - accuracy: 0.9236\n",
            "Epoch 00007: ReduceLROnPlateau reducing learning rate to 0.0029999999329447745.\n",
            "146/146 [==============================] - 16s 110ms/step - loss: 0.1918 - accuracy: 0.9236 - val_loss: 0.9325 - val_accuracy: 0.5203 - lr: 0.0100\n",
            "Epoch 8/100\n",
            "146/146 [==============================] - 16s 110ms/step - loss: 0.1731 - accuracy: 0.9349 - val_loss: 0.1483 - val_accuracy: 0.9459 - lr: 0.0030\n",
            "Epoch 9/100\n",
            "146/146 [==============================] - 16s 111ms/step - loss: 0.1768 - accuracy: 0.9317 - val_loss: 0.1652 - val_accuracy: 0.9369 - lr: 0.0030\n",
            "Epoch 10/100\n",
            "146/146 [==============================] - 16s 111ms/step - loss: 0.1666 - accuracy: 0.9392 - val_loss: 0.1337 - val_accuracy: 0.9540 - lr: 0.0030\n",
            "Epoch 11/100\n",
            "146/146 [==============================] - 16s 112ms/step - loss: 0.1619 - accuracy: 0.9384 - val_loss: 0.1405 - val_accuracy: 0.9513 - lr: 0.0030\n",
            "Epoch 12/100\n",
            "146/146 [==============================] - ETA: 0s - loss: 0.1696 - accuracy: 0.9362\n",
            "Epoch 00012: ReduceLROnPlateau reducing learning rate to 0.0009000000078231095.\n",
            "146/146 [==============================] - 16s 112ms/step - loss: 0.1696 - accuracy: 0.9362 - val_loss: 0.1462 - val_accuracy: 0.9432 - lr: 0.0030\n",
            "Epoch 13/100\n",
            "146/146 [==============================] - 16s 110ms/step - loss: 0.1684 - accuracy: 0.9354 - val_loss: 0.1491 - val_accuracy: 0.9396 - lr: 9.0000e-04\n",
            "Epoch 14/100\n",
            "146/146 [==============================] - ETA: 0s - loss: 0.1579 - accuracy: 0.9388\n",
            "Epoch 00014: ReduceLROnPlateau reducing learning rate to 0.00026999999536201356.\n",
            "146/146 [==============================] - 16s 110ms/step - loss: 0.1579 - accuracy: 0.9388 - val_loss: 0.1339 - val_accuracy: 0.9468 - lr: 9.0000e-04\n",
            "Epoch 15/100\n",
            "146/146 [==============================] - 16s 111ms/step - loss: 0.1513 - accuracy: 0.9461 - val_loss: 0.1310 - val_accuracy: 0.9522 - lr: 2.7000e-04\n",
            "Epoch 16/100\n",
            "146/146 [==============================] - 16s 110ms/step - loss: 0.1517 - accuracy: 0.9469 - val_loss: 0.1311 - val_accuracy: 0.9549 - lr: 2.7000e-04\n",
            "Epoch 17/100\n",
            "146/146 [==============================] - 16s 111ms/step - loss: 0.1589 - accuracy: 0.9386 - val_loss: 0.1239 - val_accuracy: 0.9558 - lr: 2.7000e-04\n",
            "Epoch 18/100\n",
            "146/146 [==============================] - 16s 110ms/step - loss: 0.1565 - accuracy: 0.9396 - val_loss: 0.1286 - val_accuracy: 0.9567 - lr: 2.7000e-04\n",
            "Epoch 19/100\n",
            "146/146 [==============================] - 16s 111ms/step - loss: 0.1505 - accuracy: 0.9458 - val_loss: 0.1309 - val_accuracy: 0.9477 - lr: 2.7000e-04\n",
            "Epoch 20/100\n",
            "146/146 [==============================] - 16s 110ms/step - loss: 0.1591 - accuracy: 0.9403 - val_loss: 0.1294 - val_accuracy: 0.9585 - lr: 2.7000e-04\n",
            "Epoch 21/100\n",
            "146/146 [==============================] - 16s 110ms/step - loss: 0.1595 - accuracy: 0.9411 - val_loss: 0.1325 - val_accuracy: 0.9549 - lr: 2.7000e-04\n",
            "Epoch 22/100\n",
            "146/146 [==============================] - ETA: 0s - loss: 0.1590 - accuracy: 0.9439\n",
            "Epoch 00022: ReduceLROnPlateau reducing learning rate to 8.099999686237424e-05.\n",
            "146/146 [==============================] - 16s 111ms/step - loss: 0.1590 - accuracy: 0.9439 - val_loss: 0.1382 - val_accuracy: 0.9396 - lr: 2.7000e-04\n",
            "Epoch 23/100\n",
            "146/146 [==============================] - 17s 114ms/step - loss: 0.1532 - accuracy: 0.9431 - val_loss: 0.1266 - val_accuracy: 0.9558 - lr: 8.1000e-05\n",
            "Epoch 24/100\n",
            "146/146 [==============================] - 16s 111ms/step - loss: 0.1576 - accuracy: 0.9409 - val_loss: 0.1262 - val_accuracy: 0.9603 - lr: 8.1000e-05\n",
            "Epoch 25/100\n",
            "146/146 [==============================] - 17s 113ms/step - loss: 0.1542 - accuracy: 0.9431 - val_loss: 0.1344 - val_accuracy: 0.9513 - lr: 8.1000e-05\n",
            "Epoch 26/100\n",
            "146/146 [==============================] - ETA: 0s - loss: 0.1525 - accuracy: 0.9424\n",
            "Epoch 00026: ReduceLROnPlateau reducing learning rate to 2.429999949526973e-05.\n",
            "146/146 [==============================] - 16s 113ms/step - loss: 0.1525 - accuracy: 0.9424 - val_loss: 0.1199 - val_accuracy: 0.9549 - lr: 8.1000e-05\n",
            "Epoch 27/100\n",
            "146/146 [==============================] - 17s 114ms/step - loss: 0.1595 - accuracy: 0.9411 - val_loss: 0.1294 - val_accuracy: 0.9585 - lr: 2.4300e-05\n",
            "Epoch 28/100\n",
            "146/146 [==============================] - ETA: 0s - loss: 0.1602 - accuracy: 0.9358\n",
            "Epoch 00028: ReduceLROnPlateau reducing learning rate to 7.289999848580919e-06.\n",
            "146/146 [==============================] - 17s 113ms/step - loss: 0.1602 - accuracy: 0.9358 - val_loss: 0.1264 - val_accuracy: 0.9540 - lr: 2.4300e-05\n",
            "Epoch 29/100\n",
            "146/146 [==============================] - 17s 114ms/step - loss: 0.1594 - accuracy: 0.9411 - val_loss: 0.1240 - val_accuracy: 0.9612 - lr: 7.2900e-06\n",
            "Epoch 30/100\n",
            "146/146 [==============================] - 17s 114ms/step - loss: 0.1545 - accuracy: 0.9392 - val_loss: 0.1373 - val_accuracy: 0.9477 - lr: 7.2900e-06\n",
            "Epoch 31/100\n",
            "146/146 [==============================] - ETA: 0s - loss: 0.1554 - accuracy: 0.9439\n",
            "Epoch 00031: ReduceLROnPlateau reducing learning rate to 2.186999927289435e-06.\n",
            "146/146 [==============================] - 17s 114ms/step - loss: 0.1554 - accuracy: 0.9439 - val_loss: 0.1354 - val_accuracy: 0.9486 - lr: 7.2900e-06\n",
            "Epoch 32/100\n",
            "146/146 [==============================] - 17s 114ms/step - loss: 0.1561 - accuracy: 0.9403 - val_loss: 0.1252 - val_accuracy: 0.9540 - lr: 2.1870e-06\n",
            "Epoch 33/100\n",
            "146/146 [==============================] - ETA: 0s - loss: 0.1583 - accuracy: 0.9426\n",
            "Epoch 00033: ReduceLROnPlateau reducing learning rate to 1e-06.\n",
            "146/146 [==============================] - 17s 114ms/step - loss: 0.1583 - accuracy: 0.9426 - val_loss: 0.1239 - val_accuracy: 0.9495 - lr: 2.1870e-06\n",
            "Epoch 34/100\n",
            "146/146 [==============================] - 17s 113ms/step - loss: 0.1599 - accuracy: 0.9414 - val_loss: 0.1296 - val_accuracy: 0.9540 - lr: 1.0000e-06\n",
            "Epoch 35/100\n",
            "146/146 [==============================] - 16s 113ms/step - loss: 0.1609 - accuracy: 0.9394 - val_loss: 0.1356 - val_accuracy: 0.9522 - lr: 1.0000e-06\n",
            "Epoch 36/100\n",
            "146/146 [==============================] - 16s 112ms/step - loss: 0.1571 - accuracy: 0.9407 - val_loss: 0.1213 - val_accuracy: 0.9549 - lr: 1.0000e-06\n",
            "Epoch 37/100\n",
            "146/146 [==============================] - 17s 113ms/step - loss: 0.1629 - accuracy: 0.9377 - val_loss: 0.1248 - val_accuracy: 0.9576 - lr: 1.0000e-06\n",
            "Epoch 38/100\n",
            "146/146 [==============================] - 16s 112ms/step - loss: 0.1487 - accuracy: 0.9463 - val_loss: 0.1250 - val_accuracy: 0.9594 - lr: 1.0000e-06\n",
            "Epoch 39/100\n",
            "146/146 [==============================] - 16s 111ms/step - loss: 0.1557 - accuracy: 0.9420 - val_loss: 0.1421 - val_accuracy: 0.9486 - lr: 1.0000e-06\n",
            "Epoch 40/100\n",
            "146/146 [==============================] - 17s 113ms/step - loss: 0.1519 - accuracy: 0.9424 - val_loss: 0.1285 - val_accuracy: 0.9459 - lr: 1.0000e-06\n",
            "Epoch 41/100\n",
            "146/146 [==============================] - 16s 112ms/step - loss: 0.1537 - accuracy: 0.9429 - val_loss: 0.1223 - val_accuracy: 0.9540 - lr: 1.0000e-06\n",
            "Epoch 42/100\n",
            "146/146 [==============================] - 16s 112ms/step - loss: 0.1505 - accuracy: 0.9463 - val_loss: 0.1377 - val_accuracy: 0.9558 - lr: 1.0000e-06\n",
            "Epoch 43/100\n",
            "146/146 [==============================] - 16s 111ms/step - loss: 0.1529 - accuracy: 0.9450 - val_loss: 0.1272 - val_accuracy: 0.9513 - lr: 1.0000e-06\n",
            "Epoch 44/100\n",
            "146/146 [==============================] - 16s 112ms/step - loss: 0.1590 - accuracy: 0.9384 - val_loss: 0.1316 - val_accuracy: 0.9513 - lr: 1.0000e-06\n",
            "Epoch 45/100\n",
            "146/146 [==============================] - 16s 112ms/step - loss: 0.1571 - accuracy: 0.9411 - val_loss: 0.1246 - val_accuracy: 0.9531 - lr: 1.0000e-06\n",
            "Epoch 46/100\n",
            "146/146 [==============================] - 16s 112ms/step - loss: 0.1575 - accuracy: 0.9431 - val_loss: 0.1306 - val_accuracy: 0.9513 - lr: 1.0000e-06\n",
            "Epoch 47/100\n",
            "146/146 [==============================] - 16s 112ms/step - loss: 0.1534 - accuracy: 0.9418 - val_loss: 0.1304 - val_accuracy: 0.9504 - lr: 1.0000e-06\n",
            "Epoch 48/100\n",
            "146/146 [==============================] - 16s 112ms/step - loss: 0.1570 - accuracy: 0.9411 - val_loss: 0.1251 - val_accuracy: 0.9513 - lr: 1.0000e-06\n",
            "Epoch 49/100\n",
            "146/146 [==============================] - 16s 112ms/step - loss: 0.1523 - accuracy: 0.9420 - val_loss: 0.1335 - val_accuracy: 0.9504 - lr: 1.0000e-06\n",
            "Epoch 50/100\n",
            "146/146 [==============================] - 16s 113ms/step - loss: 0.1565 - accuracy: 0.9405 - val_loss: 0.1331 - val_accuracy: 0.9468 - lr: 1.0000e-06\n",
            "Epoch 51/100\n",
            "146/146 [==============================] - 16s 112ms/step - loss: 0.1571 - accuracy: 0.9411 - val_loss: 0.1244 - val_accuracy: 0.9549 - lr: 1.0000e-06\n",
            "Epoch 52/100\n",
            "146/146 [==============================] - 16s 111ms/step - loss: 0.1586 - accuracy: 0.9414 - val_loss: 0.1287 - val_accuracy: 0.9513 - lr: 1.0000e-06\n",
            "Epoch 53/100\n",
            "146/146 [==============================] - 16s 111ms/step - loss: 0.1563 - accuracy: 0.9414 - val_loss: 0.1290 - val_accuracy: 0.9513 - lr: 1.0000e-06\n",
            "Epoch 54/100\n",
            "146/146 [==============================] - 16s 110ms/step - loss: 0.1641 - accuracy: 0.9399 - val_loss: 0.1360 - val_accuracy: 0.9450 - lr: 1.0000e-06\n",
            "Epoch 55/100\n",
            "146/146 [==============================] - 16s 111ms/step - loss: 0.1555 - accuracy: 0.9443 - val_loss: 0.1301 - val_accuracy: 0.9540 - lr: 1.0000e-06\n",
            "Epoch 56/100\n",
            "146/146 [==============================] - 16s 111ms/step - loss: 0.1538 - accuracy: 0.9420 - val_loss: 0.1310 - val_accuracy: 0.9504 - lr: 1.0000e-06\n",
            "Epoch 57/100\n",
            "146/146 [==============================] - 16s 111ms/step - loss: 0.1553 - accuracy: 0.9435 - val_loss: 0.1318 - val_accuracy: 0.9558 - lr: 1.0000e-06\n",
            "Epoch 58/100\n",
            "146/146 [==============================] - 16s 111ms/step - loss: 0.1551 - accuracy: 0.9439 - val_loss: 0.1444 - val_accuracy: 0.9459 - lr: 1.0000e-06\n",
            "Epoch 59/100\n",
            "146/146 [==============================] - 17s 113ms/step - loss: 0.1584 - accuracy: 0.9392 - val_loss: 0.1291 - val_accuracy: 0.9558 - lr: 1.0000e-06\n",
            "Epoch 60/100\n",
            "146/146 [==============================] - 16s 112ms/step - loss: 0.1564 - accuracy: 0.9437 - val_loss: 0.1272 - val_accuracy: 0.9522 - lr: 1.0000e-06\n",
            "Epoch 61/100\n",
            "146/146 [==============================] - 17s 113ms/step - loss: 0.1606 - accuracy: 0.9414 - val_loss: 0.1379 - val_accuracy: 0.9495 - lr: 1.0000e-06\n",
            "Epoch 62/100\n",
            "146/146 [==============================] - 17s 113ms/step - loss: 0.1473 - accuracy: 0.9435 - val_loss: 0.1398 - val_accuracy: 0.9468 - lr: 1.0000e-06\n",
            "Epoch 63/100\n",
            "146/146 [==============================] - 16s 113ms/step - loss: 0.1547 - accuracy: 0.9456 - val_loss: 0.1264 - val_accuracy: 0.9558 - lr: 1.0000e-06\n",
            "Epoch 64/100\n",
            "146/146 [==============================] - 16s 112ms/step - loss: 0.1547 - accuracy: 0.9416 - val_loss: 0.1317 - val_accuracy: 0.9540 - lr: 1.0000e-06\n",
            "Epoch 65/100\n",
            "146/146 [==============================] - 17s 114ms/step - loss: 0.1574 - accuracy: 0.9422 - val_loss: 0.1314 - val_accuracy: 0.9549 - lr: 1.0000e-06\n",
            "Epoch 66/100\n",
            "146/146 [==============================] - 16s 113ms/step - loss: 0.1589 - accuracy: 0.9396 - val_loss: 0.1304 - val_accuracy: 0.9558 - lr: 1.0000e-06\n",
            "Epoch 67/100\n",
            "146/146 [==============================] - 16s 112ms/step - loss: 0.1639 - accuracy: 0.9405 - val_loss: 0.1268 - val_accuracy: 0.9531 - lr: 1.0000e-06\n",
            "Epoch 68/100\n",
            "146/146 [==============================] - 17s 113ms/step - loss: 0.1491 - accuracy: 0.9390 - val_loss: 0.1240 - val_accuracy: 0.9567 - lr: 1.0000e-06\n",
            "Epoch 69/100\n",
            "146/146 [==============================] - 16s 113ms/step - loss: 0.1557 - accuracy: 0.9433 - val_loss: 0.1340 - val_accuracy: 0.9522 - lr: 1.0000e-06\n",
            "Epoch 70/100\n",
            "146/146 [==============================] - 16s 112ms/step - loss: 0.1590 - accuracy: 0.9411 - val_loss: 0.1224 - val_accuracy: 0.9576 - lr: 1.0000e-06\n",
            "Epoch 71/100\n",
            "146/146 [==============================] - 16s 112ms/step - loss: 0.1519 - accuracy: 0.9422 - val_loss: 0.1259 - val_accuracy: 0.9495 - lr: 1.0000e-06\n",
            "Epoch 72/100\n",
            "146/146 [==============================] - 16s 112ms/step - loss: 0.1511 - accuracy: 0.9435 - val_loss: 0.1213 - val_accuracy: 0.9522 - lr: 1.0000e-06\n",
            "Epoch 73/100\n",
            "146/146 [==============================] - 16s 112ms/step - loss: 0.1490 - accuracy: 0.9433 - val_loss: 0.1236 - val_accuracy: 0.9585 - lr: 1.0000e-06\n",
            "Epoch 74/100\n",
            "146/146 [==============================] - 16s 111ms/step - loss: 0.1627 - accuracy: 0.9386 - val_loss: 0.1288 - val_accuracy: 0.9558 - lr: 1.0000e-06\n",
            "Epoch 75/100\n",
            "146/146 [==============================] - 16s 110ms/step - loss: 0.1529 - accuracy: 0.9424 - val_loss: 0.1221 - val_accuracy: 0.9549 - lr: 1.0000e-06\n",
            "Epoch 76/100\n",
            "146/146 [==============================] - 16s 111ms/step - loss: 0.1466 - accuracy: 0.9467 - val_loss: 0.1353 - val_accuracy: 0.9522 - lr: 1.0000e-06\n",
            "Epoch 77/100\n",
            "146/146 [==============================] - 16s 111ms/step - loss: 0.1501 - accuracy: 0.9433 - val_loss: 0.1383 - val_accuracy: 0.9423 - lr: 1.0000e-06\n",
            "Epoch 78/100\n",
            "146/146 [==============================] - 16s 111ms/step - loss: 0.1562 - accuracy: 0.9403 - val_loss: 0.1316 - val_accuracy: 0.9513 - lr: 1.0000e-06\n",
            "Epoch 79/100\n",
            "146/146 [==============================] - 16s 111ms/step - loss: 0.1574 - accuracy: 0.9411 - val_loss: 0.1321 - val_accuracy: 0.9486 - lr: 1.0000e-06\n",
            "Epoch 80/100\n",
            "146/146 [==============================] - 16s 110ms/step - loss: 0.1561 - accuracy: 0.9437 - val_loss: 0.1313 - val_accuracy: 0.9504 - lr: 1.0000e-06\n",
            "Epoch 81/100\n",
            "146/146 [==============================] - 16s 111ms/step - loss: 0.1555 - accuracy: 0.9420 - val_loss: 0.1348 - val_accuracy: 0.9513 - lr: 1.0000e-06\n",
            "Epoch 82/100\n",
            "146/146 [==============================] - 16s 111ms/step - loss: 0.1516 - accuracy: 0.9437 - val_loss: 0.1349 - val_accuracy: 0.9468 - lr: 1.0000e-06\n",
            "Epoch 83/100\n",
            "146/146 [==============================] - 16s 112ms/step - loss: 0.1584 - accuracy: 0.9396 - val_loss: 0.1295 - val_accuracy: 0.9549 - lr: 1.0000e-06\n",
            "Epoch 84/100\n",
            "146/146 [==============================] - 16s 110ms/step - loss: 0.1649 - accuracy: 0.9375 - val_loss: 0.1174 - val_accuracy: 0.9612 - lr: 1.0000e-06\n",
            "Epoch 85/100\n",
            "146/146 [==============================] - 16s 112ms/step - loss: 0.1553 - accuracy: 0.9443 - val_loss: 0.1364 - val_accuracy: 0.9450 - lr: 1.0000e-06\n",
            "Epoch 86/100\n",
            "146/146 [==============================] - 16s 111ms/step - loss: 0.1586 - accuracy: 0.9414 - val_loss: 0.1285 - val_accuracy: 0.9486 - lr: 1.0000e-06\n",
            "Epoch 87/100\n",
            "146/146 [==============================] - 16s 112ms/step - loss: 0.1563 - accuracy: 0.9375 - val_loss: 0.1274 - val_accuracy: 0.9540 - lr: 1.0000e-06\n",
            "Epoch 88/100\n",
            "146/146 [==============================] - 16s 111ms/step - loss: 0.1579 - accuracy: 0.9381 - val_loss: 0.1326 - val_accuracy: 0.9522 - lr: 1.0000e-06\n",
            "Epoch 89/100\n",
            "146/146 [==============================] - 16s 111ms/step - loss: 0.1561 - accuracy: 0.9448 - val_loss: 0.1369 - val_accuracy: 0.9513 - lr: 1.0000e-06\n",
            "Epoch 90/100\n",
            "146/146 [==============================] - 16s 111ms/step - loss: 0.1475 - accuracy: 0.9452 - val_loss: 0.1220 - val_accuracy: 0.9567 - lr: 1.0000e-06\n",
            "Epoch 91/100\n",
            "146/146 [==============================] - 16s 112ms/step - loss: 0.1533 - accuracy: 0.9431 - val_loss: 0.1365 - val_accuracy: 0.9504 - lr: 1.0000e-06\n",
            "Epoch 92/100\n",
            "146/146 [==============================] - 16s 110ms/step - loss: 0.1525 - accuracy: 0.9390 - val_loss: 0.1343 - val_accuracy: 0.9531 - lr: 1.0000e-06\n",
            "Epoch 93/100\n",
            "146/146 [==============================] - 16s 112ms/step - loss: 0.1547 - accuracy: 0.9424 - val_loss: 0.1169 - val_accuracy: 0.9612 - lr: 1.0000e-06\n",
            "Epoch 94/100\n",
            "146/146 [==============================] - 16s 112ms/step - loss: 0.1628 - accuracy: 0.9409 - val_loss: 0.1211 - val_accuracy: 0.9585 - lr: 1.0000e-06\n",
            "Epoch 95/100\n",
            "146/146 [==============================] - 16s 113ms/step - loss: 0.1529 - accuracy: 0.9456 - val_loss: 0.1255 - val_accuracy: 0.9558 - lr: 1.0000e-06\n",
            "Epoch 96/100\n",
            "146/146 [==============================] - 17s 113ms/step - loss: 0.1566 - accuracy: 0.9429 - val_loss: 0.1323 - val_accuracy: 0.9486 - lr: 1.0000e-06\n",
            "Epoch 97/100\n",
            "146/146 [==============================] - 17s 113ms/step - loss: 0.1634 - accuracy: 0.9414 - val_loss: 0.1355 - val_accuracy: 0.9495 - lr: 1.0000e-06\n",
            "Epoch 98/100\n",
            "146/146 [==============================] - 16s 112ms/step - loss: 0.1547 - accuracy: 0.9405 - val_loss: 0.1235 - val_accuracy: 0.9540 - lr: 1.0000e-06\n",
            "Epoch 99/100\n",
            "146/146 [==============================] - 16s 112ms/step - loss: 0.1524 - accuracy: 0.9429 - val_loss: 0.1329 - val_accuracy: 0.9540 - lr: 1.0000e-06\n",
            "Epoch 100/100\n",
            "146/146 [==============================] - 16s 112ms/step - loss: 0.1533 - accuracy: 0.9437 - val_loss: 0.1351 - val_accuracy: 0.9468 - lr: 1.0000e-06\n"
          ]
        }
      ]
    },
    {
      "cell_type": "code",
      "metadata": {
        "colab": {
          "base_uri": "https://localhost:8080/"
        },
        "id": "ip79ygl7uKnm",
        "outputId": "9adb502c-495a-445d-e323-2725e0e962eb"
      },
      "source": [
        "from sklearn.metrics import classification_report\n",
        "\n",
        "pred = model6.predict(x_val)\n",
        "labels = (pred > 0.5).astype(np.int)\n",
        "\n",
        "print(classification_report(y_val, labels))"
      ],
      "execution_count": 16,
      "outputs": [
        {
          "output_type": "stream",
          "name": "stdout",
          "text": [
            "              precision    recall  f1-score   support\n",
            "\n",
            "           0       0.98      0.94      0.96       810\n",
            "           1       0.85      0.96      0.90       299\n",
            "\n",
            "    accuracy                           0.94      1109\n",
            "   macro avg       0.92      0.95      0.93      1109\n",
            "weighted avg       0.95      0.94      0.94      1109\n",
            "\n"
          ]
        }
      ]
    },
    {
      "cell_type": "code",
      "metadata": {
        "colab": {
          "base_uri": "https://localhost:8080/",
          "height": 573
        },
        "id": "pc77p3PigQrG",
        "outputId": "2f587613-2fec-4a52-8cdb-a6d82dd1fba2"
      },
      "source": [
        "import matplotlib.pyplot as plt\n",
        "\n",
        "plt.plot(model_6.history[\"loss\"], label=\"train_loss_model_1\")\n",
        "plt.plot(model_6.history[\"val_loss\"], label=\"test_loss_model_1\")\n",
        "plt.title(\"Loss Result\")\n",
        "plt.ylabel(\"Loss\")\n",
        "plt.xlabel(\"Epoch\")\n",
        "plt.legend()\n",
        "plt.show()\n",
        "\n",
        "plt.plot(model_6.history[\"accuracy\"], label=\"train_acc_model_1\")\n",
        "plt.plot(model_6.history[\"val_accuracy\"], label=\"val_acc_model_1\")\n",
        "plt.title(\"Accuracy Result\")\n",
        "plt.ylabel(\"Accuracy\")\n",
        "plt.xlabel(\"Epoch\")\n",
        "plt.legend()\n",
        "plt.show()"
      ],
      "execution_count": 18,
      "outputs": [
        {
          "output_type": "display_data",
          "data": {
            "image/png": "[encoded data removed]",
            "text/plain": [
              "<Figure size 432x288 with 1 Axes>"
            ]
          },
          "metadata": {
            "needs_background": "light"
          }
        },
        {
          "output_type": "display_data",
          "data": {
            "image/png": "[encoded data removed]",
            "text/plain": [
              "<Figure size 432x288 with 1 Axes>"
            ]
          },
          "metadata": {
            "needs_background": "light"
          }
        }
      ]
    },
    {
      "cell_type": "code",
      "metadata": {
        "id": "dK7GAI5GgqSA"
      },
      "source": [
        "model6.save('model_6.h5')"
      ],
      "execution_count": 19,
      "outputs": []
    }
  ]
}